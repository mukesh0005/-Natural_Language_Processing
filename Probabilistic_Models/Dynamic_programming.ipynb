{
 "cells": [
  {
   "cell_type": "markdown",
   "metadata": {},
   "source": [
    "## formula for cost computing\n",
    "There are three equations: \n",
    "\n",
    "D[i,j] = D[i-1, j] + del_cost: this indicates you want to populate the current cell (i,j) by using the cost in the cell found directly above. \n",
    "\n",
    "D[i,j] = D[i, j-1] + ins_cost: this indicates you want to populate the current cell (i,j) by using the cost in the cell found directly to its left. \n",
    "\n",
    "D[i,j] = D[i-1, j-1] + rep_cost: the rep cost can be 2 or 0 depending if you are going to actually replace it or not. \n",
    "\n",
    "At every time step you check the three possible paths where you can come from and you select the least expensive one. "
   ]
  },
  {
   "cell_type": "code",
   "execution_count": null,
   "metadata": {},
   "outputs": [],
   "source": []
  }
 ],
 "metadata": {
  "language_info": {
   "name": "python"
  }
 },
 "nbformat": 4,
 "nbformat_minor": 2
}
